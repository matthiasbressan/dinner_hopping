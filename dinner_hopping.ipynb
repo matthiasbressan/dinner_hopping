{
 "cells": [
  {
   "cell_type": "code",
   "execution_count": 1,
   "metadata": {},
   "outputs": [
    {
     "ename": "ModuleNotFoundError",
     "evalue": "No module named 'oauth2client'",
     "output_type": "error",
     "traceback": [
      "\u001b[0;31m---------------------------------------------------------------------------\u001b[0m",
      "\u001b[0;31mModuleNotFoundError\u001b[0m                       Traceback (most recent call last)",
      "\u001b[1;32m/Users/giacomo/Documents/projects/dinner_hopping/dinner_hopping.ipynb Cell 1\u001b[0m line \u001b[0;36m4\n\u001b[1;32m      <a href='vscode-notebook-cell:/Users/giacomo/Documents/projects/dinner_hopping/dinner_hopping.ipynb#W0sZmlsZQ%3D%3D?line=0'>1</a>\u001b[0m \u001b[39m#read the streadsheet\u001b[39;00m\n\u001b[1;32m      <a href='vscode-notebook-cell:/Users/giacomo/Documents/projects/dinner_hopping/dinner_hopping.ipynb#W0sZmlsZQ%3D%3D?line=2'>3</a>\u001b[0m \u001b[39mimport\u001b[39;00m \u001b[39mgspread\u001b[39;00m\n\u001b[0;32m----> <a href='vscode-notebook-cell:/Users/giacomo/Documents/projects/dinner_hopping/dinner_hopping.ipynb#W0sZmlsZQ%3D%3D?line=3'>4</a>\u001b[0m \u001b[39mfrom\u001b[39;00m \u001b[39moauth2client\u001b[39;00m\u001b[39m.\u001b[39;00m\u001b[39mservice_account\u001b[39;00m \u001b[39mimport\u001b[39;00m ServiceAccountCredentials\n\u001b[1;32m      <a href='vscode-notebook-cell:/Users/giacomo/Documents/projects/dinner_hopping/dinner_hopping.ipynb#W0sZmlsZQ%3D%3D?line=5'>6</a>\u001b[0m \u001b[39m# Use the JSON key file you downloaded when you created your Google Sheets API service account\u001b[39;00m\n\u001b[1;32m      <a href='vscode-notebook-cell:/Users/giacomo/Documents/projects/dinner_hopping/dinner_hopping.ipynb#W0sZmlsZQ%3D%3D?line=6'>7</a>\u001b[0m scope \u001b[39m=\u001b[39m [\u001b[39m'\u001b[39m\u001b[39mhttps://spreadsheets.google.com/feeds\u001b[39m\u001b[39m'\u001b[39m,\u001b[39m'\u001b[39m\u001b[39mhttps://www.googleapis.com/auth/drive\u001b[39m\u001b[39m'\u001b[39m]\n",
      "\u001b[0;31mModuleNotFoundError\u001b[0m: No module named 'oauth2client'"
     ]
    }
   ],
   "source": [
    "#import the CSV file"
   ]
  }
 ],
 "metadata": {
  "kernelspec": {
   "display_name": "dinner_hopping",
   "language": "python",
   "name": "python3"
  },
  "language_info": {
   "codemirror_mode": {
    "name": "ipython",
    "version": 3
   },
   "file_extension": ".py",
   "mimetype": "text/x-python",
   "name": "python",
   "nbconvert_exporter": "python",
   "pygments_lexer": "ipython3",
   "version": "3.9.7"
  }
 },
 "nbformat": 4,
 "nbformat_minor": 2
}
